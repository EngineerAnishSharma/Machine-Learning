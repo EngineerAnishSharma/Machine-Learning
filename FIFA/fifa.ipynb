{
 "cells": [
  {
   "cell_type": "code",
   "execution_count": 1,
   "id": "b45bf1b5-6e6a-4a0b-8ecb-c1278c6881ab",
   "metadata": {},
   "outputs": [],
   "source": [
    "import pandas as pd\n",
    "from matplotlib import pyplot as plt\n",
    "import seaborn as sns"
   ]
  },
  {
   "cell_type": "code",
   "execution_count": 2,
   "id": "6afd0ef8-61cb-4908-8072-e7416f7d061e",
   "metadata": {},
   "outputs": [],
   "source": [
    "fifa=pd.read_csv('players_20.csv')"
   ]
  },
  {
   "cell_type": "code",
   "execution_count": 3,
   "id": "8b1c0fcd-0582-4f32-a008-c417cf741322",
   "metadata": {},
   "outputs": [
    {
     "data": {
      "text/html": [
       "<div>\n",
       "<style scoped>\n",
       "    .dataframe tbody tr th:only-of-type {\n",
       "        vertical-align: middle;\n",
       "    }\n",
       "\n",
       "    .dataframe tbody tr th {\n",
       "        vertical-align: top;\n",
       "    }\n",
       "\n",
       "    .dataframe thead th {\n",
       "        text-align: right;\n",
       "    }\n",
       "</style>\n",
       "<table border=\"1\" class=\"dataframe\">\n",
       "  <thead>\n",
       "    <tr style=\"text-align: right;\">\n",
       "      <th></th>\n",
       "      <th>sofifa_id</th>\n",
       "      <th>player_url</th>\n",
       "      <th>short_name</th>\n",
       "      <th>long_name</th>\n",
       "      <th>age</th>\n",
       "      <th>dob</th>\n",
       "      <th>height_cm</th>\n",
       "      <th>weight_kg</th>\n",
       "      <th>nationality</th>\n",
       "      <th>club</th>\n",
       "      <th>...</th>\n",
       "      <th>lwb</th>\n",
       "      <th>ldm</th>\n",
       "      <th>cdm</th>\n",
       "      <th>rdm</th>\n",
       "      <th>rwb</th>\n",
       "      <th>lb</th>\n",
       "      <th>lcb</th>\n",
       "      <th>cb</th>\n",
       "      <th>rcb</th>\n",
       "      <th>rb</th>\n",
       "    </tr>\n",
       "  </thead>\n",
       "  <tbody>\n",
       "    <tr>\n",
       "      <th>0</th>\n",
       "      <td>158023</td>\n",
       "      <td>https://sofifa.com/player/158023/lionel-messi/...</td>\n",
       "      <td>L. Messi</td>\n",
       "      <td>Lionel Andrés Messi Cuccittini</td>\n",
       "      <td>32</td>\n",
       "      <td>1987-06-24</td>\n",
       "      <td>170</td>\n",
       "      <td>72</td>\n",
       "      <td>Argentina</td>\n",
       "      <td>FC Barcelona</td>\n",
       "      <td>...</td>\n",
       "      <td>68+2</td>\n",
       "      <td>66+2</td>\n",
       "      <td>66+2</td>\n",
       "      <td>66+2</td>\n",
       "      <td>68+2</td>\n",
       "      <td>63+2</td>\n",
       "      <td>52+2</td>\n",
       "      <td>52+2</td>\n",
       "      <td>52+2</td>\n",
       "      <td>63+2</td>\n",
       "    </tr>\n",
       "    <tr>\n",
       "      <th>1</th>\n",
       "      <td>20801</td>\n",
       "      <td>https://sofifa.com/player/20801/c-ronaldo-dos-...</td>\n",
       "      <td>Cristiano Ronaldo</td>\n",
       "      <td>Cristiano Ronaldo dos Santos Aveiro</td>\n",
       "      <td>34</td>\n",
       "      <td>1985-02-05</td>\n",
       "      <td>187</td>\n",
       "      <td>83</td>\n",
       "      <td>Portugal</td>\n",
       "      <td>Juventus</td>\n",
       "      <td>...</td>\n",
       "      <td>65+3</td>\n",
       "      <td>61+3</td>\n",
       "      <td>61+3</td>\n",
       "      <td>61+3</td>\n",
       "      <td>65+3</td>\n",
       "      <td>61+3</td>\n",
       "      <td>53+3</td>\n",
       "      <td>53+3</td>\n",
       "      <td>53+3</td>\n",
       "      <td>61+3</td>\n",
       "    </tr>\n",
       "    <tr>\n",
       "      <th>2</th>\n",
       "      <td>190871</td>\n",
       "      <td>https://sofifa.com/player/190871/neymar-da-sil...</td>\n",
       "      <td>Neymar Jr</td>\n",
       "      <td>Neymar da Silva Santos Junior</td>\n",
       "      <td>27</td>\n",
       "      <td>1992-02-05</td>\n",
       "      <td>175</td>\n",
       "      <td>68</td>\n",
       "      <td>Brazil</td>\n",
       "      <td>Paris Saint-Germain</td>\n",
       "      <td>...</td>\n",
       "      <td>66+3</td>\n",
       "      <td>61+3</td>\n",
       "      <td>61+3</td>\n",
       "      <td>61+3</td>\n",
       "      <td>66+3</td>\n",
       "      <td>61+3</td>\n",
       "      <td>46+3</td>\n",
       "      <td>46+3</td>\n",
       "      <td>46+3</td>\n",
       "      <td>61+3</td>\n",
       "    </tr>\n",
       "    <tr>\n",
       "      <th>3</th>\n",
       "      <td>200389</td>\n",
       "      <td>https://sofifa.com/player/200389/jan-oblak/20/...</td>\n",
       "      <td>J. Oblak</td>\n",
       "      <td>Jan Oblak</td>\n",
       "      <td>26</td>\n",
       "      <td>1993-01-07</td>\n",
       "      <td>188</td>\n",
       "      <td>87</td>\n",
       "      <td>Slovenia</td>\n",
       "      <td>Atlético Madrid</td>\n",
       "      <td>...</td>\n",
       "      <td>NaN</td>\n",
       "      <td>NaN</td>\n",
       "      <td>NaN</td>\n",
       "      <td>NaN</td>\n",
       "      <td>NaN</td>\n",
       "      <td>NaN</td>\n",
       "      <td>NaN</td>\n",
       "      <td>NaN</td>\n",
       "      <td>NaN</td>\n",
       "      <td>NaN</td>\n",
       "    </tr>\n",
       "    <tr>\n",
       "      <th>4</th>\n",
       "      <td>183277</td>\n",
       "      <td>https://sofifa.com/player/183277/eden-hazard/2...</td>\n",
       "      <td>E. Hazard</td>\n",
       "      <td>Eden Hazard</td>\n",
       "      <td>28</td>\n",
       "      <td>1991-01-07</td>\n",
       "      <td>175</td>\n",
       "      <td>74</td>\n",
       "      <td>Belgium</td>\n",
       "      <td>Real Madrid</td>\n",
       "      <td>...</td>\n",
       "      <td>66+3</td>\n",
       "      <td>63+3</td>\n",
       "      <td>63+3</td>\n",
       "      <td>63+3</td>\n",
       "      <td>66+3</td>\n",
       "      <td>61+3</td>\n",
       "      <td>49+3</td>\n",
       "      <td>49+3</td>\n",
       "      <td>49+3</td>\n",
       "      <td>61+3</td>\n",
       "    </tr>\n",
       "  </tbody>\n",
       "</table>\n",
       "<p>5 rows × 104 columns</p>\n",
       "</div>"
      ],
      "text/plain": [
       "   sofifa_id                                         player_url  \\\n",
       "0     158023  https://sofifa.com/player/158023/lionel-messi/...   \n",
       "1      20801  https://sofifa.com/player/20801/c-ronaldo-dos-...   \n",
       "2     190871  https://sofifa.com/player/190871/neymar-da-sil...   \n",
       "3     200389  https://sofifa.com/player/200389/jan-oblak/20/...   \n",
       "4     183277  https://sofifa.com/player/183277/eden-hazard/2...   \n",
       "\n",
       "          short_name                            long_name  age         dob  \\\n",
       "0           L. Messi       Lionel Andrés Messi Cuccittini   32  1987-06-24   \n",
       "1  Cristiano Ronaldo  Cristiano Ronaldo dos Santos Aveiro   34  1985-02-05   \n",
       "2          Neymar Jr        Neymar da Silva Santos Junior   27  1992-02-05   \n",
       "3           J. Oblak                            Jan Oblak   26  1993-01-07   \n",
       "4          E. Hazard                          Eden Hazard   28  1991-01-07   \n",
       "\n",
       "   height_cm  weight_kg nationality                 club  ...   lwb   ldm  \\\n",
       "0        170         72   Argentina         FC Barcelona  ...  68+2  66+2   \n",
       "1        187         83    Portugal             Juventus  ...  65+3  61+3   \n",
       "2        175         68      Brazil  Paris Saint-Germain  ...  66+3  61+3   \n",
       "3        188         87    Slovenia      Atlético Madrid  ...   NaN   NaN   \n",
       "4        175         74     Belgium          Real Madrid  ...  66+3  63+3   \n",
       "\n",
       "    cdm   rdm   rwb    lb   lcb    cb   rcb    rb  \n",
       "0  66+2  66+2  68+2  63+2  52+2  52+2  52+2  63+2  \n",
       "1  61+3  61+3  65+3  61+3  53+3  53+3  53+3  61+3  \n",
       "2  61+3  61+3  66+3  61+3  46+3  46+3  46+3  61+3  \n",
       "3   NaN   NaN   NaN   NaN   NaN   NaN   NaN   NaN  \n",
       "4  63+3  63+3  66+3  61+3  49+3  49+3  49+3  61+3  \n",
       "\n",
       "[5 rows x 104 columns]"
      ]
     },
     "execution_count": 3,
     "metadata": {},
     "output_type": "execute_result"
    }
   ],
   "source": [
    "fifa.head()"
   ]
  },
  {
   "cell_type": "code",
   "execution_count": 4,
   "id": "4d6943ba-d4d5-4914-8696-1c8a62473196",
   "metadata": {},
   "outputs": [
    {
     "name": "stdout",
     "output_type": "stream",
     "text": [
      "sofifa_id\n",
      "player_url\n",
      "short_name\n",
      "long_name\n",
      "age\n",
      "dob\n",
      "height_cm\n",
      "weight_kg\n",
      "nationality\n",
      "club\n",
      "overall\n",
      "potential\n",
      "value_eur\n",
      "wage_eur\n",
      "player_positions\n",
      "preferred_foot\n",
      "international_reputation\n",
      "weak_foot\n",
      "skill_moves\n",
      "work_rate\n",
      "body_type\n",
      "real_face\n",
      "release_clause_eur\n",
      "player_tags\n",
      "team_position\n",
      "team_jersey_number\n",
      "loaned_from\n",
      "joined\n",
      "contract_valid_until\n",
      "nation_position\n",
      "nation_jersey_number\n",
      "pace\n",
      "shooting\n",
      "passing\n",
      "dribbling\n",
      "defending\n",
      "physic\n",
      "gk_diving\n",
      "gk_handling\n",
      "gk_kicking\n",
      "gk_reflexes\n",
      "gk_speed\n",
      "gk_positioning\n",
      "player_traits\n",
      "attacking_crossing\n",
      "attacking_finishing\n",
      "attacking_heading_accuracy\n",
      "attacking_short_passing\n",
      "attacking_volleys\n",
      "skill_dribbling\n",
      "skill_curve\n",
      "skill_fk_accuracy\n",
      "skill_long_passing\n",
      "skill_ball_control\n",
      "movement_acceleration\n",
      "movement_sprint_speed\n",
      "movement_agility\n",
      "movement_reactions\n",
      "movement_balance\n",
      "power_shot_power\n",
      "power_jumping\n",
      "power_stamina\n",
      "power_strength\n",
      "power_long_shots\n",
      "mentality_aggression\n",
      "mentality_interceptions\n",
      "mentality_positioning\n",
      "mentality_vision\n",
      "mentality_penalties\n",
      "mentality_composure\n",
      "defending_marking\n",
      "defending_standing_tackle\n",
      "defending_sliding_tackle\n",
      "goalkeeping_diving\n",
      "goalkeeping_handling\n",
      "goalkeeping_kicking\n",
      "goalkeeping_positioning\n",
      "goalkeeping_reflexes\n",
      "ls\n",
      "st\n",
      "rs\n",
      "lw\n",
      "lf\n",
      "cf\n",
      "rf\n",
      "rw\n",
      "lam\n",
      "cam\n",
      "ram\n",
      "lm\n",
      "lcm\n",
      "cm\n",
      "rcm\n",
      "rm\n",
      "lwb\n",
      "ldm\n",
      "cdm\n",
      "rdm\n",
      "rwb\n",
      "lb\n",
      "lcb\n",
      "cb\n",
      "rcb\n",
      "rb\n"
     ]
    }
   ],
   "source": [
    "for col in fifa.columns:\n",
    "    print(col)"
   ]
  },
  {
   "cell_type": "code",
   "execution_count": 5,
   "id": "cbf1a6c0-e519-47a1-bd0d-545917415666",
   "metadata": {},
   "outputs": [
    {
     "data": {
      "text/plain": [
       "(18278, 104)"
      ]
     },
     "execution_count": 5,
     "metadata": {},
     "output_type": "execute_result"
    }
   ],
   "source": [
    "fifa.shape\n"
   ]
  },
  {
   "cell_type": "code",
   "execution_count": 6,
   "id": "7718586a-8032-4e5b-b7c9-f3ed09da993f",
   "metadata": {},
   "outputs": [
    {
     "name": "stdout",
     "output_type": "stream",
     "text": [
      "\n",
      "\n"
     ]
    }
   ],
   "source": [
    "print(\"\\n\")\n"
   ]
  },
  {
   "cell_type": "code",
   "execution_count": 7,
   "id": "86a74f88-f533-4e39-a3d0-71c4778f9174",
   "metadata": {},
   "outputs": [
    {
     "name": "stdout",
     "output_type": "stream",
     "text": [
      "England                1667\n",
      "Germany                1216\n",
      "Spain                  1035\n",
      "France                  984\n",
      "Argentina               886\n",
      "                       ... \n",
      "Liberia                   1\n",
      "São Tomé & Príncipe       1\n",
      "Puerto Rico               1\n",
      "Bahrain                   1\n",
      "Indonesia                 1\n",
      "Name: nationality, Length: 162, dtype: int64\n",
      "\n",
      "\n"
     ]
    }
   ],
   "source": [
    "print(fifa['nationality'].value_counts())\n",
    "print(\"\\n\")"
   ]
  },
  {
   "cell_type": "code",
   "execution_count": 8,
   "id": "bf4e1e04-f55a-4fca-8ad5-933e1a575d34",
   "metadata": {},
   "outputs": [
    {
     "name": "stdout",
     "output_type": "stream",
     "text": [
      "England                1667\n",
      "Germany                1216\n",
      "Spain                  1035\n",
      "France                  984\n",
      "Argentina               886\n",
      "                       ... \n",
      "Liberia                   1\n",
      "São Tomé & Príncipe       1\n",
      "Puerto Rico               1\n",
      "Bahrain                   1\n",
      "Indonesia                 1\n",
      "Name: nationality, Length: 162, dtype: int64\n"
     ]
    }
   ],
   "source": [
    "print(fifa['nationality'].value_counts())"
   ]
  },
  {
   "cell_type": "code",
   "execution_count": 9,
   "id": "77d10c2b-3ac7-4608-971b-71c6d1eded52",
   "metadata": {},
   "outputs": [
    {
     "name": "stdout",
     "output_type": "stream",
     "text": [
      "England        1667\n",
      "Germany        1216\n",
      "Spain          1035\n",
      "France          984\n",
      "Argentina       886\n",
      "Brazil          824\n",
      "Italy           732\n",
      "Colombia        591\n",
      "Japan           453\n",
      "Netherlands     416\n",
      "Name: nationality, dtype: int64\n"
     ]
    }
   ],
   "source": [
    "print(fifa['nationality'].value_counts()[0:10])"
   ]
  },
  {
   "cell_type": "code",
   "execution_count": 10,
   "id": "6978635d-1443-4d5f-849f-2e259dd317e5",
   "metadata": {},
   "outputs": [
    {
     "name": "stdout",
     "output_type": "stream",
     "text": [
      "England      1667\n",
      "Germany      1216\n",
      "Spain        1035\n",
      "France        984\n",
      "Argentina     886\n",
      "Name: nationality, dtype: int64\n"
     ]
    }
   ],
   "source": [
    "print(fifa['nationality'].value_counts()[0:5])\n"
   ]
  },
  {
   "cell_type": "code",
   "execution_count": 11,
   "id": "8650743f-5208-4c30-97aa-0292de21e961",
   "metadata": {},
   "outputs": [],
   "source": [
    "player_salary=fifa[['short_name','wage_eur']]"
   ]
  },
  {
   "cell_type": "code",
   "execution_count": 12,
   "id": "21c4b101-c2b0-4c6d-a580-d3f1df81fe49",
   "metadata": {},
   "outputs": [
    {
     "name": "stdout",
     "output_type": "stream",
     "text": [
      "          short_name  wage_eur\n",
      "0           L. Messi    565000\n",
      "1  Cristiano Ronaldo    405000\n",
      "2          Neymar Jr    290000\n",
      "3           J. Oblak    125000\n",
      "4          E. Hazard    470000\n"
     ]
    }
   ],
   "source": [
    "print(player_salary.head())"
   ]
  },
  {
   "cell_type": "code",
   "execution_count": 13,
   "id": "e8cdb557-bbb8-497c-862f-2ac1029d4a31",
   "metadata": {},
   "outputs": [
    {
     "name": "stdout",
     "output_type": "stream",
     "text": [
      "           short_name  wage_eur\n",
      "0            L. Messi    565000\n",
      "4           E. Hazard    470000\n",
      "1   Cristiano Ronaldo    405000\n",
      "5        K. De Bruyne    370000\n",
      "22       A. Griezmann    370000\n"
     ]
    }
   ],
   "source": [
    "player_salary=player_salary.sort_values(by=['wage_eur'],ascending=False)\n",
    "print(player_salary.head())"
   ]
  },
  {
   "cell_type": "code",
   "execution_count": 14,
   "id": "7a9c30b1-b7f4-4916-8538-6b91d6dc39f9",
   "metadata": {},
   "outputs": [
    {
     "data": {
      "image/png": "[encoded data removed]",
      "text/plain": [
       "<Figure size 800x500 with 1 Axes>"
      ]
     },
     "metadata": {},
     "output_type": "display_data"
    }
   ],
   "source": [
    "plt.figure(figsize=(8,5))\n",
    "plt.bar(list(player_salary['short_name'])[0:5],list(player_salary['wage_eur'])[0:5],color=\"r\")\n",
    "plt.show()"
   ]
  },
  {
   "cell_type": "code",
   "execution_count": 15,
   "id": "7a77943f-b82b-475d-9c8c-a4d2c7a52da3",
   "metadata": {},
   "outputs": [
    {
     "name": "stdout",
     "output_type": "stream",
     "text": [
      "     sofifa_id                                         player_url  \\\n",
      "6       192448  https://sofifa.com/player/192448/marc-andre-te...   \n",
      "31      167495  https://sofifa.com/player/167495/manuel-neuer/...   \n",
      "36      182521  https://sofifa.com/player/182521/toni-kroos/20...   \n",
      "37      188350  https://sofifa.com/player/188350/marco-reus/20...   \n",
      "49      178603  https://sofifa.com/player/178603/mats-hummels/...   \n",
      "55      222492  https://sofifa.com/player/222492/leroy-sane/20...   \n",
      "61      212622  https://sofifa.com/player/212622/joshua-kimmic...   \n",
      "70      189596  https://sofifa.com/player/189596/thomas-muller...   \n",
      "77      212190  https://sofifa.com/player/212190/niklas-sule/2...   \n",
      "109     235790  https://sofifa.com/player/235790/kai-havertz/2...   \n",
      "\n",
      "        short_name              long_name  age         dob  height_cm  \\\n",
      "6    M. ter Stegen  Marc-André ter Stegen   27  1992-04-30        187   \n",
      "31        M. Neuer           Manuel Neuer   33  1986-03-27        193   \n",
      "36        T. Kroos             Toni Kroos   29  1990-01-04        183   \n",
      "37         M. Reus             Marco Reus   30  1989-05-31        180   \n",
      "49      M. Hummels          Mats  Hummels   30  1988-12-16        191   \n",
      "55         L. Sané             Leroy Sané   23  1996-01-11        183   \n",
      "61      J. Kimmich         Joshua Kimmich   24  1995-02-08        176   \n",
      "70       T. Müller          Thomas Müller   29  1989-09-13        186   \n",
      "77         N. Süle            Niklas Süle   23  1995-09-03        195   \n",
      "109     K. Havertz            Kai Havertz   20  1999-06-11        188   \n",
      "\n",
      "     weight_kg nationality                 club  ...   lwb   ldm   cdm   rdm  \\\n",
      "6           85     Germany         FC Barcelona  ...   NaN   NaN   NaN   NaN   \n",
      "31          92     Germany    FC Bayern München  ...   NaN   NaN   NaN   NaN   \n",
      "36          76     Germany          Real Madrid  ...  75+3  79+3  79+3  79+3   \n",
      "37          71     Germany    Borussia Dortmund  ...  69+3  65+3  65+3  65+3   \n",
      "49          94     Germany    Borussia Dortmund  ...  77+3  83+3  83+3  83+3   \n",
      "55          75     Germany      Manchester City  ...  65+2  59+2  59+2  59+2   \n",
      "61          73     Germany    FC Bayern München  ...  83+3  82+3  82+3  82+3   \n",
      "70          75     Germany    FC Bayern München  ...  69+3  68+3  68+3  68+3   \n",
      "77          97     Germany    FC Bayern München  ...  71+2  77+2  77+2  77+2   \n",
      "109         83     Germany  Bayer 04 Leverkusen  ...  65+2  63+2  63+2  63+2   \n",
      "\n",
      "      rwb    lb   lcb    cb   rcb    rb  \n",
      "6     NaN   NaN   NaN   NaN   NaN   NaN  \n",
      "31    NaN   NaN   NaN   NaN   NaN   NaN  \n",
      "36   75+3  72+3  69+3  69+3  69+3  72+3  \n",
      "37   69+3  64+3  55+3  55+3  55+3  64+3  \n",
      "49   77+3  78+3  84+3  84+3  84+3  78+3  \n",
      "55   65+2  61+2  52+2  52+2  52+2  61+2  \n",
      "61   83+3  81+3  78+3  78+3  78+3  81+3  \n",
      "70   69+3  67+3  62+3  62+3  62+3  67+3  \n",
      "77   71+2  75+2  83+2  83+2  83+2  75+2  \n",
      "109  65+2  62+2  54+2  54+2  54+2  62+2  \n",
      "\n",
      "[10 rows x 104 columns]\n"
     ]
    }
   ],
   "source": [
    "fifa['nationality']=='Germany'\n",
    "Germany=fifa[fifa['nationality']=='Germany']\n",
    "print(Germany.head(10))"
   ]
  },
  {
   "cell_type": "code",
   "execution_count": 16,
   "id": "fa7183aa-0ee1-443d-b4da-f668b1c2b3f3",
   "metadata": {},
   "outputs": [
    {
     "name": "stdout",
     "output_type": "stream",
     "text": [
      "    sofifa_id                                         player_url  \\\n",
      "6      192448  https://sofifa.com/player/192448/marc-andre-te...   \n",
      "31     167495  https://sofifa.com/player/167495/manuel-neuer/...   \n",
      "36     182521  https://sofifa.com/player/182521/toni-kroos/20...   \n",
      "37     188350  https://sofifa.com/player/188350/marco-reus/20...   \n",
      "49     178603  https://sofifa.com/player/178603/mats-hummels/...   \n",
      "\n",
      "       short_name              long_name  age         dob  height_cm  \\\n",
      "6   M. ter Stegen  Marc-André ter Stegen   27  1992-04-30        187   \n",
      "31       M. Neuer           Manuel Neuer   33  1986-03-27        193   \n",
      "36       T. Kroos             Toni Kroos   29  1990-01-04        183   \n",
      "37        M. Reus             Marco Reus   30  1989-05-31        180   \n",
      "49     M. Hummels          Mats  Hummels   30  1988-12-16        191   \n",
      "\n",
      "    weight_kg nationality               club  ...   lwb   ldm   cdm   rdm  \\\n",
      "6          85     Germany       FC Barcelona  ...   NaN   NaN   NaN   NaN   \n",
      "31         92     Germany  FC Bayern München  ...   NaN   NaN   NaN   NaN   \n",
      "36         76     Germany        Real Madrid  ...  75+3  79+3  79+3  79+3   \n",
      "37         71     Germany  Borussia Dortmund  ...  69+3  65+3  65+3  65+3   \n",
      "49         94     Germany  Borussia Dortmund  ...  77+3  83+3  83+3  83+3   \n",
      "\n",
      "     rwb    lb   lcb    cb   rcb    rb  \n",
      "6    NaN   NaN   NaN   NaN   NaN   NaN  \n",
      "31   NaN   NaN   NaN   NaN   NaN   NaN  \n",
      "36  75+3  72+3  69+3  69+3  69+3  72+3  \n",
      "37  69+3  64+3  55+3  55+3  55+3  64+3  \n",
      "49  77+3  78+3  84+3  84+3  84+3  78+3  \n",
      "\n",
      "[5 rows x 104 columns]\n"
     ]
    }
   ],
   "source": [
    "Germany.sort_values(by=['height_cm'],ascending=False)\n",
    "print(Germany.head())"
   ]
  },
  {
   "cell_type": "code",
   "execution_count": 17,
   "id": "c703faea-9536-46a4-b09b-93f9fd182c07",
   "metadata": {},
   "outputs": [
    {
     "name": "stdout",
     "output_type": "stream",
     "text": [
      "    sofifa_id                                         player_url  \\\n",
      "6      192448  https://sofifa.com/player/192448/marc-andre-te...   \n",
      "31     167495  https://sofifa.com/player/167495/manuel-neuer/...   \n",
      "36     182521  https://sofifa.com/player/182521/toni-kroos/20...   \n",
      "37     188350  https://sofifa.com/player/188350/marco-reus/20...   \n",
      "49     178603  https://sofifa.com/player/178603/mats-hummels/...   \n",
      "\n",
      "       short_name              long_name  age         dob  height_cm  \\\n",
      "6   M. ter Stegen  Marc-André ter Stegen   27  1992-04-30        187   \n",
      "31       M. Neuer           Manuel Neuer   33  1986-03-27        193   \n",
      "36       T. Kroos             Toni Kroos   29  1990-01-04        183   \n",
      "37        M. Reus             Marco Reus   30  1989-05-31        180   \n",
      "49     M. Hummels          Mats  Hummels   30  1988-12-16        191   \n",
      "\n",
      "    weight_kg nationality               club  ...   lwb   ldm   cdm   rdm  \\\n",
      "6          85     Germany       FC Barcelona  ...   NaN   NaN   NaN   NaN   \n",
      "31         92     Germany  FC Bayern München  ...   NaN   NaN   NaN   NaN   \n",
      "36         76     Germany        Real Madrid  ...  75+3  79+3  79+3  79+3   \n",
      "37         71     Germany  Borussia Dortmund  ...  69+3  65+3  65+3  65+3   \n",
      "49         94     Germany  Borussia Dortmund  ...  77+3  83+3  83+3  83+3   \n",
      "\n",
      "     rwb    lb   lcb    cb   rcb    rb  \n",
      "6    NaN   NaN   NaN   NaN   NaN   NaN  \n",
      "31   NaN   NaN   NaN   NaN   NaN   NaN  \n",
      "36  75+3  72+3  69+3  69+3  69+3  72+3  \n",
      "37  69+3  64+3  55+3  55+3  55+3  64+3  \n",
      "49  77+3  78+3  84+3  84+3  84+3  78+3  \n",
      "\n",
      "[5 rows x 104 columns]\n"
     ]
    }
   ],
   "source": [
    "Germany.sort_values(by=['weight_kg'],ascending=False)\n",
    "print(Germany.head())"
   ]
  },
  {
   "cell_type": "code",
   "execution_count": 18,
   "id": "11a253a3-ea5a-49de-a7a9-574f7ececc2b",
   "metadata": {},
   "outputs": [
    {
     "name": "stdout",
     "output_type": "stream",
     "text": [
      "    sofifa_id                                         player_url  \\\n",
      "6      192448  https://sofifa.com/player/192448/marc-andre-te...   \n",
      "31     167495  https://sofifa.com/player/167495/manuel-neuer/...   \n",
      "36     182521  https://sofifa.com/player/182521/toni-kroos/20...   \n",
      "37     188350  https://sofifa.com/player/188350/marco-reus/20...   \n",
      "49     178603  https://sofifa.com/player/178603/mats-hummels/...   \n",
      "\n",
      "       short_name              long_name  age         dob  height_cm  \\\n",
      "6   M. ter Stegen  Marc-André ter Stegen   27  1992-04-30        187   \n",
      "31       M. Neuer           Manuel Neuer   33  1986-03-27        193   \n",
      "36       T. Kroos             Toni Kroos   29  1990-01-04        183   \n",
      "37        M. Reus             Marco Reus   30  1989-05-31        180   \n",
      "49     M. Hummels          Mats  Hummels   30  1988-12-16        191   \n",
      "\n",
      "    weight_kg nationality               club  ...   lwb   ldm   cdm   rdm  \\\n",
      "6          85     Germany       FC Barcelona  ...   NaN   NaN   NaN   NaN   \n",
      "31         92     Germany  FC Bayern München  ...   NaN   NaN   NaN   NaN   \n",
      "36         76     Germany        Real Madrid  ...  75+3  79+3  79+3  79+3   \n",
      "37         71     Germany  Borussia Dortmund  ...  69+3  65+3  65+3  65+3   \n",
      "49         94     Germany  Borussia Dortmund  ...  77+3  83+3  83+3  83+3   \n",
      "\n",
      "     rwb    lb   lcb    cb   rcb    rb  \n",
      "6    NaN   NaN   NaN   NaN   NaN   NaN  \n",
      "31   NaN   NaN   NaN   NaN   NaN   NaN  \n",
      "36  75+3  72+3  69+3  69+3  69+3  72+3  \n",
      "37  69+3  64+3  55+3  55+3  55+3  64+3  \n",
      "49  77+3  78+3  84+3  84+3  84+3  78+3  \n",
      "\n",
      "[5 rows x 104 columns]\n"
     ]
    }
   ],
   "source": [
    "Germany.sort_values(by=['wage_eur'],ascending=False)\n",
    "print(Germany.head())"
   ]
  },
  {
   "cell_type": "code",
   "execution_count": 19,
   "id": "a8222fde-ab9e-4c29-ba46-ab0cd27d2dea",
   "metadata": {},
   "outputs": [
    {
     "name": "stdout",
     "output_type": "stream",
     "text": [
      "    sofifa_id                                         player_url  \\\n",
      "6      192448  https://sofifa.com/player/192448/marc-andre-te...   \n",
      "31     167495  https://sofifa.com/player/167495/manuel-neuer/...   \n",
      "36     182521  https://sofifa.com/player/182521/toni-kroos/20...   \n",
      "37     188350  https://sofifa.com/player/188350/marco-reus/20...   \n",
      "49     178603  https://sofifa.com/player/178603/mats-hummels/...   \n",
      "\n",
      "       short_name              long_name  age         dob  height_cm  \\\n",
      "6   M. ter Stegen  Marc-André ter Stegen   27  1992-04-30        187   \n",
      "31       M. Neuer           Manuel Neuer   33  1986-03-27        193   \n",
      "36       T. Kroos             Toni Kroos   29  1990-01-04        183   \n",
      "37        M. Reus             Marco Reus   30  1989-05-31        180   \n",
      "49     M. Hummels          Mats  Hummels   30  1988-12-16        191   \n",
      "\n",
      "    weight_kg nationality               club  ...   lwb   ldm   cdm   rdm  \\\n",
      "6          85     Germany       FC Barcelona  ...   NaN   NaN   NaN   NaN   \n",
      "31         92     Germany  FC Bayern München  ...   NaN   NaN   NaN   NaN   \n",
      "36         76     Germany        Real Madrid  ...  75+3  79+3  79+3  79+3   \n",
      "37         71     Germany  Borussia Dortmund  ...  69+3  65+3  65+3  65+3   \n",
      "49         94     Germany  Borussia Dortmund  ...  77+3  83+3  83+3  83+3   \n",
      "\n",
      "     rwb    lb   lcb    cb   rcb    rb  \n",
      "6    NaN   NaN   NaN   NaN   NaN   NaN  \n",
      "31   NaN   NaN   NaN   NaN   NaN   NaN  \n",
      "36  75+3  72+3  69+3  69+3  69+3  72+3  \n",
      "37  69+3  64+3  55+3  55+3  55+3  64+3  \n",
      "49  77+3  78+3  84+3  84+3  84+3  78+3  \n",
      "\n",
      "[5 rows x 104 columns]\n"
     ]
    }
   ],
   "source": [
    "Germany[['short_name','wage_eur']].sort_values(by=['wage_eur'],ascending=False)\n",
    "print(Germany.head())"
   ]
  },
  {
   "cell_type": "code",
   "execution_count": 20,
   "id": "d1c5a0f7-a524-4a22-a35f-eb412016ef15",
   "metadata": {},
   "outputs": [
    {
     "name": "stdout",
     "output_type": "stream",
     "text": [
      "          short_name  shooting\n",
      "0           L. Messi      92.0\n",
      "1  Cristiano Ronaldo      93.0\n",
      "2          Neymar Jr      85.0\n",
      "3           J. Oblak       NaN\n",
      "4          E. Hazard      83.0\n"
     ]
    }
   ],
   "source": [
    "player_shooting=fifa[['short_name','shooting']]\n",
    "player_shooting.sort_values(by=['shooting'],ascending=False)\n",
    "print(player_shooting.head())"
   ]
  },
  {
   "cell_type": "code",
   "execution_count": null,
   "id": "959e08fc-ed09-4876-b75c-638cdaff71d6",
   "metadata": {},
   "outputs": [],
   "source": []
  }
 ],
 "metadata": {
  "kernelspec": {
   "display_name": "Python 3 (ipykernel)",
   "language": "python",
   "name": "python3"
  },
  "language_info": {
   "codemirror_mode": {
    "name": "ipython",
    "version": 3
   },
   "file_extension": ".py",
   "mimetype": "text/x-python",
   "name": "python",
   "nbconvert_exporter": "python",
   "pygments_lexer": "ipython3",
   "version": "3.11.0"
  }
 },
 "nbformat": 4,
 "nbformat_minor": 5
}
